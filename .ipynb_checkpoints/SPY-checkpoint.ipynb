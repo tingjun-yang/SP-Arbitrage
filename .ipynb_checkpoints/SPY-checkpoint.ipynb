{
 "cells": [
  {
   "cell_type": "code",
   "execution_count": 1,
   "id": "0958a768-b034-4d44-94a1-256a7f50c3ce",
   "metadata": {
    "tags": []
   },
   "outputs": [],
   "source": [
    "import os\n",
    "import requests\n",
    "import pandas as pd\n",
    "import numpy as np\n",
    "from dotenv import load_dotenv\n",
    "\n",
    "import alpaca_trade_api as tradeapi\n",
    "from MCForecastTools import MCSimulation\n",
    "\n",
    "%matplotlib inline"
   ]
  },
  {
   "cell_type": "code",
   "execution_count": 2,
   "id": "ec5aec8d-8907-40c6-9f03-d10cc2c08146",
   "metadata": {
    "tags": []
   },
   "outputs": [
    {
     "data": {
      "text/plain": [
       "True"
      ]
     },
     "execution_count": 2,
     "metadata": {},
     "output_type": "execute_result"
    }
   ],
   "source": [
    "load_dotenv()"
   ]
  },
  {
   "cell_type": "code",
   "execution_count": 3,
   "id": "723bc8f5-3721-46f4-bb18-e27a38630a91",
   "metadata": {
    "tags": []
   },
   "outputs": [],
   "source": [
    "alpaca_api_key = os.getenv(\"ALPACA_API_KEY\")\n",
    "alpaca_secret_key = os.getenv(\"ALPACA_SECRET_KEY\")"
   ]
  },
  {
   "cell_type": "code",
   "execution_count": 4,
   "id": "eda41ea9-8ddc-47f6-be42-f5112680d133",
   "metadata": {
    "tags": []
   },
   "outputs": [],
   "source": [
    "alpaca = tradeapi.REST(alpaca_api_key, alpaca_secret_key, api_version='v2')"
   ]
  },
  {
   "cell_type": "code",
   "execution_count": 5,
   "id": "e68705c7-0ec3-4e37-a438-67cb9c439af3",
   "metadata": {
    "tags": []
   },
   "outputs": [],
   "source": [
    "start = pd.Timestamp('2019-05-01', tz='America/New_York').isoformat()\n",
    "end = pd.Timestamp('2023-05-01', tz='America/New_York').isoformat()"
   ]
  },
  {
   "cell_type": "code",
   "execution_count": 6,
   "id": "ca159fc1-0dc4-4c2a-b5a6-4adafe7c123d",
   "metadata": {
    "tags": []
   },
   "outputs": [],
   "source": [
    "tickers=[\"SPY\"]"
   ]
  },
  {
   "cell_type": "code",
   "execution_count": 7,
   "id": "9d6cb1f3-68e6-4c9a-bea0-ca0516ccacb0",
   "metadata": {
    "tags": []
   },
   "outputs": [],
   "source": [
    "timeframe=\"1Day\""
   ]
  },
  {
   "cell_type": "code",
   "execution_count": 8,
   "id": "905ecb00-d621-4b0c-a053-f08f18fba5ab",
   "metadata": {
    "tags": []
   },
   "outputs": [
    {
     "data": {
      "text/html": [
       "<div>\n",
       "<style scoped>\n",
       "    .dataframe tbody tr th:only-of-type {\n",
       "        vertical-align: middle;\n",
       "    }\n",
       "\n",
       "    .dataframe tbody tr th {\n",
       "        vertical-align: top;\n",
       "    }\n",
       "\n",
       "    .dataframe thead tr th {\n",
       "        text-align: left;\n",
       "    }\n",
       "\n",
       "    .dataframe thead tr:last-of-type th {\n",
       "        text-align: right;\n",
       "    }\n",
       "</style>\n",
       "<table border=\"1\" class=\"dataframe\">\n",
       "  <thead>\n",
       "    <tr>\n",
       "      <th></th>\n",
       "      <th colspan=\"8\" halign=\"left\">SPY</th>\n",
       "    </tr>\n",
       "    <tr>\n",
       "      <th></th>\n",
       "      <th>open</th>\n",
       "      <th>high</th>\n",
       "      <th>low</th>\n",
       "      <th>close</th>\n",
       "      <th>volume</th>\n",
       "      <th>trade_count</th>\n",
       "      <th>vwap</th>\n",
       "      <th>symbol</th>\n",
       "    </tr>\n",
       "    <tr>\n",
       "      <th>timestamp</th>\n",
       "      <th></th>\n",
       "      <th></th>\n",
       "      <th></th>\n",
       "      <th></th>\n",
       "      <th></th>\n",
       "      <th></th>\n",
       "      <th></th>\n",
       "      <th></th>\n",
       "    </tr>\n",
       "  </thead>\n",
       "  <tbody>\n",
       "    <tr>\n",
       "      <th>2019-05-01 04:00:00+00:00</th>\n",
       "      <td>294.72</td>\n",
       "      <td>294.95</td>\n",
       "      <td>291.8000</td>\n",
       "      <td>291.8200</td>\n",
       "      <td>71921870</td>\n",
       "      <td>337374</td>\n",
       "      <td>293.457138</td>\n",
       "      <td>SPY</td>\n",
       "    </tr>\n",
       "    <tr>\n",
       "      <th>2019-05-02 04:00:00+00:00</th>\n",
       "      <td>291.68</td>\n",
       "      <td>292.70</td>\n",
       "      <td>289.5200</td>\n",
       "      <td>291.1300</td>\n",
       "      <td>65058183</td>\n",
       "      <td>342564</td>\n",
       "      <td>291.101680</td>\n",
       "      <td>SPY</td>\n",
       "    </tr>\n",
       "    <tr>\n",
       "      <th>2019-05-03 04:00:00+00:00</th>\n",
       "      <td>292.82</td>\n",
       "      <td>294.34</td>\n",
       "      <td>291.2998</td>\n",
       "      <td>293.9800</td>\n",
       "      <td>56579556</td>\n",
       "      <td>249557</td>\n",
       "      <td>293.438891</td>\n",
       "      <td>SPY</td>\n",
       "    </tr>\n",
       "    <tr>\n",
       "      <th>2019-05-06 04:00:00+00:00</th>\n",
       "      <td>289.25</td>\n",
       "      <td>293.31</td>\n",
       "      <td>288.9000</td>\n",
       "      <td>292.8300</td>\n",
       "      <td>107250892</td>\n",
       "      <td>390959</td>\n",
       "      <td>291.952803</td>\n",
       "      <td>SPY</td>\n",
       "    </tr>\n",
       "    <tr>\n",
       "      <th>2019-05-07 04:00:00+00:00</th>\n",
       "      <td>290.15</td>\n",
       "      <td>290.81</td>\n",
       "      <td>285.8100</td>\n",
       "      <td>288.0500</td>\n",
       "      <td>145292657</td>\n",
       "      <td>618594</td>\n",
       "      <td>288.280747</td>\n",
       "      <td>SPY</td>\n",
       "    </tr>\n",
       "    <tr>\n",
       "      <th>2019-05-08 04:00:00+00:00</th>\n",
       "      <td>287.53</td>\n",
       "      <td>289.43</td>\n",
       "      <td>286.8700</td>\n",
       "      <td>287.7300</td>\n",
       "      <td>91714817</td>\n",
       "      <td>455857</td>\n",
       "      <td>288.141309</td>\n",
       "      <td>SPY</td>\n",
       "    </tr>\n",
       "    <tr>\n",
       "      <th>2019-05-09 04:00:00+00:00</th>\n",
       "      <td>285.23</td>\n",
       "      <td>287.33</td>\n",
       "      <td>283.3000</td>\n",
       "      <td>286.6700</td>\n",
       "      <td>103471271</td>\n",
       "      <td>526341</td>\n",
       "      <td>285.580572</td>\n",
       "      <td>SPY</td>\n",
       "    </tr>\n",
       "    <tr>\n",
       "      <th>2019-05-10 04:00:00+00:00</th>\n",
       "      <td>285.62</td>\n",
       "      <td>288.94</td>\n",
       "      <td>282.3000</td>\n",
       "      <td>288.0300</td>\n",
       "      <td>112603342</td>\n",
       "      <td>602402</td>\n",
       "      <td>285.828611</td>\n",
       "      <td>SPY</td>\n",
       "    </tr>\n",
       "    <tr>\n",
       "      <th>2019-05-13 04:00:00+00:00</th>\n",
       "      <td>282.42</td>\n",
       "      <td>283.49</td>\n",
       "      <td>279.9300</td>\n",
       "      <td>280.9905</td>\n",
       "      <td>127837979</td>\n",
       "      <td>670187</td>\n",
       "      <td>281.560182</td>\n",
       "      <td>SPY</td>\n",
       "    </tr>\n",
       "    <tr>\n",
       "      <th>2019-05-14 04:00:00+00:00</th>\n",
       "      <td>281.99</td>\n",
       "      <td>285.10</td>\n",
       "      <td>281.8500</td>\n",
       "      <td>283.3800</td>\n",
       "      <td>77106090</td>\n",
       "      <td>390251</td>\n",
       "      <td>283.609239</td>\n",
       "      <td>SPY</td>\n",
       "    </tr>\n",
       "  </tbody>\n",
       "</table>\n",
       "</div>"
      ],
      "text/plain": [
       "                              SPY                                         \\\n",
       "                             open    high       low     close     volume   \n",
       "timestamp                                                                  \n",
       "2019-05-01 04:00:00+00:00  294.72  294.95  291.8000  291.8200   71921870   \n",
       "2019-05-02 04:00:00+00:00  291.68  292.70  289.5200  291.1300   65058183   \n",
       "2019-05-03 04:00:00+00:00  292.82  294.34  291.2998  293.9800   56579556   \n",
       "2019-05-06 04:00:00+00:00  289.25  293.31  288.9000  292.8300  107250892   \n",
       "2019-05-07 04:00:00+00:00  290.15  290.81  285.8100  288.0500  145292657   \n",
       "2019-05-08 04:00:00+00:00  287.53  289.43  286.8700  287.7300   91714817   \n",
       "2019-05-09 04:00:00+00:00  285.23  287.33  283.3000  286.6700  103471271   \n",
       "2019-05-10 04:00:00+00:00  285.62  288.94  282.3000  288.0300  112603342   \n",
       "2019-05-13 04:00:00+00:00  282.42  283.49  279.9300  280.9905  127837979   \n",
       "2019-05-14 04:00:00+00:00  281.99  285.10  281.8500  283.3800   77106090   \n",
       "\n",
       "                                                          \n",
       "                          trade_count        vwap symbol  \n",
       "timestamp                                                 \n",
       "2019-05-01 04:00:00+00:00      337374  293.457138    SPY  \n",
       "2019-05-02 04:00:00+00:00      342564  291.101680    SPY  \n",
       "2019-05-03 04:00:00+00:00      249557  293.438891    SPY  \n",
       "2019-05-06 04:00:00+00:00      390959  291.952803    SPY  \n",
       "2019-05-07 04:00:00+00:00      618594  288.280747    SPY  \n",
       "2019-05-08 04:00:00+00:00      455857  288.141309    SPY  \n",
       "2019-05-09 04:00:00+00:00      526341  285.580572    SPY  \n",
       "2019-05-10 04:00:00+00:00      602402  285.828611    SPY  \n",
       "2019-05-13 04:00:00+00:00      670187  281.560182    SPY  \n",
       "2019-05-14 04:00:00+00:00      390251  283.609239    SPY  "
      ]
     },
     "execution_count": 8,
     "metadata": {},
     "output_type": "execute_result"
    }
   ],
   "source": [
    "portfolio_df_year = alpaca.get_bars(tickers, timeframe, start=start, end=end).df\n",
    "portfolio_df_year = pd.concat([portfolio_df_year], keys=[\"SPY\"], axis=1)\n",
    "portfolio_df_year.head(10)"
   ]
  },
  {
   "cell_type": "code",
   "execution_count": 9,
   "id": "ceb9c60a-ecd6-4fa1-9e3e-1c347933b364",
   "metadata": {
    "tags": []
   },
   "outputs": [
    {
     "data": {
      "text/html": [
       "<div>\n",
       "<style scoped>\n",
       "    .dataframe tbody tr th:only-of-type {\n",
       "        vertical-align: middle;\n",
       "    }\n",
       "\n",
       "    .dataframe tbody tr th {\n",
       "        vertical-align: top;\n",
       "    }\n",
       "\n",
       "    .dataframe thead th {\n",
       "        text-align: right;\n",
       "    }\n",
       "</style>\n",
       "<table border=\"1\" class=\"dataframe\">\n",
       "  <thead>\n",
       "    <tr style=\"text-align: right;\">\n",
       "      <th></th>\n",
       "      <th>close</th>\n",
       "    </tr>\n",
       "  </thead>\n",
       "  <tbody>\n",
       "    <tr>\n",
       "      <th>2019-05-01</th>\n",
       "      <td>291.82</td>\n",
       "    </tr>\n",
       "    <tr>\n",
       "      <th>2019-05-02</th>\n",
       "      <td>291.13</td>\n",
       "    </tr>\n",
       "    <tr>\n",
       "      <th>2019-05-03</th>\n",
       "      <td>293.98</td>\n",
       "    </tr>\n",
       "    <tr>\n",
       "      <th>2019-05-06</th>\n",
       "      <td>292.83</td>\n",
       "    </tr>\n",
       "    <tr>\n",
       "      <th>2019-05-07</th>\n",
       "      <td>288.05</td>\n",
       "    </tr>\n",
       "  </tbody>\n",
       "</table>\n",
       "</div>"
      ],
      "text/plain": [
       "             close\n",
       "2019-05-01  291.82\n",
       "2019-05-02  291.13\n",
       "2019-05-03  293.98\n",
       "2019-05-06  292.83\n",
       "2019-05-07  288.05"
      ]
     },
     "execution_count": 9,
     "metadata": {},
     "output_type": "execute_result"
    }
   ],
   "source": [
    "SPY_closing = pd.DataFrame()\n",
    "SPY_closing['close'] = portfolio_df_year['SPY']['close']\n",
    "SPY_closing.index = pd.to_datetime(portfolio_df_year.index.date)\n",
    "SPY_closing.head()"
   ]
  },
  {
   "cell_type": "code",
   "execution_count": 10,
   "id": "6405425b-4114-4fda-8d8c-1f0c7e769f99",
   "metadata": {
    "tags": []
   },
   "outputs": [
    {
     "data": {
      "text/html": [
       "<div>\n",
       "<style scoped>\n",
       "    .dataframe tbody tr th:only-of-type {\n",
       "        vertical-align: middle;\n",
       "    }\n",
       "\n",
       "    .dataframe tbody tr th {\n",
       "        vertical-align: top;\n",
       "    }\n",
       "\n",
       "    .dataframe thead th {\n",
       "        text-align: right;\n",
       "    }\n",
       "</style>\n",
       "<table border=\"1\" class=\"dataframe\">\n",
       "  <thead>\n",
       "    <tr style=\"text-align: right;\">\n",
       "      <th></th>\n",
       "      <th>SPY</th>\n",
       "    </tr>\n",
       "  </thead>\n",
       "  <tbody>\n",
       "    <tr>\n",
       "      <th>2019-05-02</th>\n",
       "      <td>-0.002364</td>\n",
       "    </tr>\n",
       "    <tr>\n",
       "      <th>2019-05-03</th>\n",
       "      <td>0.009789</td>\n",
       "    </tr>\n",
       "    <tr>\n",
       "      <th>2019-05-06</th>\n",
       "      <td>-0.003912</td>\n",
       "    </tr>\n",
       "    <tr>\n",
       "      <th>2019-05-07</th>\n",
       "      <td>-0.016323</td>\n",
       "    </tr>\n",
       "    <tr>\n",
       "      <th>2019-05-08</th>\n",
       "      <td>-0.001111</td>\n",
       "    </tr>\n",
       "  </tbody>\n",
       "</table>\n",
       "</div>"
      ],
      "text/plain": [
       "                 SPY\n",
       "2019-05-02 -0.002364\n",
       "2019-05-03  0.009789\n",
       "2019-05-06 -0.003912\n",
       "2019-05-07 -0.016323\n",
       "2019-05-08 -0.001111"
      ]
     },
     "execution_count": 10,
     "metadata": {},
     "output_type": "execute_result"
    }
   ],
   "source": [
    "SPY_daily_return = SPY_closing.pct_change().dropna()\n",
    "SPY_daily_return.rename(columns = {'close':'SPY'}, inplace=True)\n",
    "SPY_daily_return.head()"
   ]
  },
  {
   "cell_type": "code",
   "execution_count": 11,
   "id": "ed9e46b3-979d-47e7-879d-d71ba72994f2",
   "metadata": {
    "tags": []
   },
   "outputs": [
    {
     "data": {
      "text/plain": [
       "<AxesSubplot:title={'center':'SPY daily Return'}>"
      ]
     },
     "execution_count": 11,
     "metadata": {},
     "output_type": "execute_result"
    },
    {
     "data": {
      "image/png": "[encoded data removed]",
      "text/plain": [
       "<Figure size 640x480 with 1 Axes>"
      ]
     },
     "metadata": {},
     "output_type": "display_data"
    }
   ],
   "source": [
    "SPY_daily_return.plot(title='SPY daily Return')"
   ]
  },
  {
   "cell_type": "code",
   "execution_count": 12,
   "id": "de066b1d-e277-4b31-93f3-eccb2e1d891e",
   "metadata": {
    "tags": []
   },
   "outputs": [],
   "source": [
    "MC_30years = MCSimulation(\n",
    "    portfolio_data=portfolio_df_year,\n",
    "    weights=[1],\n",
    "    num_simulation=500,\n",
    "    num_trading_days=30*252\n",
    ")"
   ]
  },
  {
   "cell_type": "code",
   "execution_count": 13,
   "id": "456d6031-bf82-47d3-81f9-d3aa159ad126",
   "metadata": {
    "tags": []
   },
   "outputs": [
    {
     "name": "stdout",
     "output_type": "stream",
     "text": [
      "Running Monte Carlo simulation number 0.\n",
      "Running Monte Carlo simulation number 10.\n",
      "Running Monte Carlo simulation number 20.\n",
      "Running Monte Carlo simulation number 30.\n",
      "Running Monte Carlo simulation number 40.\n",
      "Running Monte Carlo simulation number 50.\n",
      "Running Monte Carlo simulation number 60.\n",
      "Running Monte Carlo simulation number 70.\n",
      "Running Monte Carlo simulation number 80.\n",
      "Running Monte Carlo simulation number 90.\n",
      "Running Monte Carlo simulation number 100.\n"
     ]
    },
    {
     "name": "stderr",
     "output_type": "stream",
     "text": [
      "/Users/tjyang/git/SP-Arbitrage/MCForecastTools.py:117: PerformanceWarning: DataFrame is highly fragmented.  This is usually the result of calling `frame.insert` many times, which has poor performance.  Consider joining all columns at once using pd.concat(axis=1) instead.  To get a de-fragmented frame, use `newframe = frame.copy()`\n",
      "  portfolio_cumulative_returns[n] = (1 + sim_df.fillna(0)).cumprod()\n"
     ]
    },
    {
     "name": "stdout",
     "output_type": "stream",
     "text": [
      "Running Monte Carlo simulation number 110.\n",
      "Running Monte Carlo simulation number 120.\n",
      "Running Monte Carlo simulation number 130.\n",
      "Running Monte Carlo simulation number 140.\n",
      "Running Monte Carlo simulation number 150.\n",
      "Running Monte Carlo simulation number 160.\n",
      "Running Monte Carlo simulation number 170.\n",
      "Running Monte Carlo simulation number 180.\n",
      "Running Monte Carlo simulation number 190.\n",
      "Running Monte Carlo simulation number 200.\n",
      "Running Monte Carlo simulation number 210.\n",
      "Running Monte Carlo simulation number 220.\n",
      "Running Monte Carlo simulation number 230.\n",
      "Running Monte Carlo simulation number 240.\n",
      "Running Monte Carlo simulation number 250.\n",
      "Running Monte Carlo simulation number 260.\n",
      "Running Monte Carlo simulation number 270.\n",
      "Running Monte Carlo simulation number 280.\n",
      "Running Monte Carlo simulation number 290.\n",
      "Running Monte Carlo simulation number 300.\n",
      "Running Monte Carlo simulation number 310.\n",
      "Running Monte Carlo simulation number 320.\n",
      "Running Monte Carlo simulation number 330.\n",
      "Running Monte Carlo simulation number 340.\n",
      "Running Monte Carlo simulation number 350.\n",
      "Running Monte Carlo simulation number 360.\n",
      "Running Monte Carlo simulation number 370.\n",
      "Running Monte Carlo simulation number 380.\n",
      "Running Monte Carlo simulation number 390.\n",
      "Running Monte Carlo simulation number 400.\n",
      "Running Monte Carlo simulation number 410.\n",
      "Running Monte Carlo simulation number 420.\n",
      "Running Monte Carlo simulation number 430.\n",
      "Running Monte Carlo simulation number 440.\n",
      "Running Monte Carlo simulation number 450.\n",
      "Running Monte Carlo simulation number 460.\n",
      "Running Monte Carlo simulation number 470.\n",
      "Running Monte Carlo simulation number 480.\n",
      "Running Monte Carlo simulation number 490.\n"
     ]
    },
    {
     "data": {
      "text/html": [
       "<div>\n",
       "<style scoped>\n",
       "    .dataframe tbody tr th:only-of-type {\n",
       "        vertical-align: middle;\n",
       "    }\n",
       "\n",
       "    .dataframe tbody tr th {\n",
       "        vertical-align: top;\n",
       "    }\n",
       "\n",
       "    .dataframe thead th {\n",
       "        text-align: right;\n",
       "    }\n",
       "</style>\n",
       "<table border=\"1\" class=\"dataframe\">\n",
       "  <thead>\n",
       "    <tr style=\"text-align: right;\">\n",
       "      <th></th>\n",
       "      <th>0</th>\n",
       "      <th>1</th>\n",
       "      <th>2</th>\n",
       "      <th>3</th>\n",
       "      <th>4</th>\n",
       "      <th>5</th>\n",
       "      <th>6</th>\n",
       "      <th>7</th>\n",
       "      <th>8</th>\n",
       "      <th>9</th>\n",
       "      <th>...</th>\n",
       "      <th>490</th>\n",
       "      <th>491</th>\n",
       "      <th>492</th>\n",
       "      <th>493</th>\n",
       "      <th>494</th>\n",
       "      <th>495</th>\n",
       "      <th>496</th>\n",
       "      <th>497</th>\n",
       "      <th>498</th>\n",
       "      <th>499</th>\n",
       "    </tr>\n",
       "  </thead>\n",
       "  <tbody>\n",
       "    <tr>\n",
       "      <th>0</th>\n",
       "      <td>1.000000</td>\n",
       "      <td>1.000000</td>\n",
       "      <td>1.000000</td>\n",
       "      <td>1.000000</td>\n",
       "      <td>1.000000</td>\n",
       "      <td>1.000000</td>\n",
       "      <td>1.000000</td>\n",
       "      <td>1.000000</td>\n",
       "      <td>1.000000</td>\n",
       "      <td>1.000000</td>\n",
       "      <td>...</td>\n",
       "      <td>1.000000</td>\n",
       "      <td>1.000000</td>\n",
       "      <td>1.000000</td>\n",
       "      <td>1.000000</td>\n",
       "      <td>1.000000</td>\n",
       "      <td>1.000000</td>\n",
       "      <td>1.000000</td>\n",
       "      <td>1.000000</td>\n",
       "      <td>1.000000</td>\n",
       "      <td>1.000000</td>\n",
       "    </tr>\n",
       "    <tr>\n",
       "      <th>1</th>\n",
       "      <td>0.999616</td>\n",
       "      <td>1.006946</td>\n",
       "      <td>0.993363</td>\n",
       "      <td>1.007107</td>\n",
       "      <td>1.003482</td>\n",
       "      <td>0.992064</td>\n",
       "      <td>0.990963</td>\n",
       "      <td>1.015260</td>\n",
       "      <td>0.994979</td>\n",
       "      <td>1.003479</td>\n",
       "      <td>...</td>\n",
       "      <td>0.991757</td>\n",
       "      <td>0.983316</td>\n",
       "      <td>1.016805</td>\n",
       "      <td>1.001261</td>\n",
       "      <td>1.023869</td>\n",
       "      <td>1.011479</td>\n",
       "      <td>1.003393</td>\n",
       "      <td>0.988362</td>\n",
       "      <td>1.036410</td>\n",
       "      <td>1.015929</td>\n",
       "    </tr>\n",
       "    <tr>\n",
       "      <th>2</th>\n",
       "      <td>0.980716</td>\n",
       "      <td>1.011696</td>\n",
       "      <td>0.998719</td>\n",
       "      <td>1.024115</td>\n",
       "      <td>1.002578</td>\n",
       "      <td>1.002538</td>\n",
       "      <td>0.969749</td>\n",
       "      <td>1.006990</td>\n",
       "      <td>0.981406</td>\n",
       "      <td>0.994817</td>\n",
       "      <td>...</td>\n",
       "      <td>0.976760</td>\n",
       "      <td>0.984787</td>\n",
       "      <td>1.005501</td>\n",
       "      <td>0.995951</td>\n",
       "      <td>1.025471</td>\n",
       "      <td>1.013273</td>\n",
       "      <td>1.022692</td>\n",
       "      <td>0.991858</td>\n",
       "      <td>1.011514</td>\n",
       "      <td>1.000793</td>\n",
       "    </tr>\n",
       "    <tr>\n",
       "      <th>3</th>\n",
       "      <td>1.002675</td>\n",
       "      <td>1.018500</td>\n",
       "      <td>1.008887</td>\n",
       "      <td>1.014281</td>\n",
       "      <td>1.017156</td>\n",
       "      <td>1.013912</td>\n",
       "      <td>0.975225</td>\n",
       "      <td>1.025875</td>\n",
       "      <td>0.979720</td>\n",
       "      <td>1.012152</td>\n",
       "      <td>...</td>\n",
       "      <td>0.959484</td>\n",
       "      <td>1.010003</td>\n",
       "      <td>1.008670</td>\n",
       "      <td>0.992770</td>\n",
       "      <td>1.059970</td>\n",
       "      <td>1.014498</td>\n",
       "      <td>1.031647</td>\n",
       "      <td>0.986673</td>\n",
       "      <td>1.023717</td>\n",
       "      <td>1.011210</td>\n",
       "    </tr>\n",
       "    <tr>\n",
       "      <th>4</th>\n",
       "      <td>0.987323</td>\n",
       "      <td>1.034212</td>\n",
       "      <td>1.000975</td>\n",
       "      <td>1.027687</td>\n",
       "      <td>1.000336</td>\n",
       "      <td>1.026835</td>\n",
       "      <td>0.971618</td>\n",
       "      <td>1.004425</td>\n",
       "      <td>0.977603</td>\n",
       "      <td>1.009956</td>\n",
       "      <td>...</td>\n",
       "      <td>0.962910</td>\n",
       "      <td>1.012093</td>\n",
       "      <td>1.007511</td>\n",
       "      <td>1.000085</td>\n",
       "      <td>1.057496</td>\n",
       "      <td>1.014488</td>\n",
       "      <td>1.039965</td>\n",
       "      <td>0.994395</td>\n",
       "      <td>1.026159</td>\n",
       "      <td>1.008217</td>\n",
       "    </tr>\n",
       "    <tr>\n",
       "      <th>...</th>\n",
       "      <td>...</td>\n",
       "      <td>...</td>\n",
       "      <td>...</td>\n",
       "      <td>...</td>\n",
       "      <td>...</td>\n",
       "      <td>...</td>\n",
       "      <td>...</td>\n",
       "      <td>...</td>\n",
       "      <td>...</td>\n",
       "      <td>...</td>\n",
       "      <td>...</td>\n",
       "      <td>...</td>\n",
       "      <td>...</td>\n",
       "      <td>...</td>\n",
       "      <td>...</td>\n",
       "      <td>...</td>\n",
       "      <td>...</td>\n",
       "      <td>...</td>\n",
       "      <td>...</td>\n",
       "      <td>...</td>\n",
       "      <td>...</td>\n",
       "    </tr>\n",
       "    <tr>\n",
       "      <th>7556</th>\n",
       "      <td>2.939211</td>\n",
       "      <td>6.004762</td>\n",
       "      <td>16.590244</td>\n",
       "      <td>28.313973</td>\n",
       "      <td>58.420897</td>\n",
       "      <td>14.986086</td>\n",
       "      <td>12.347772</td>\n",
       "      <td>16.879323</td>\n",
       "      <td>68.582799</td>\n",
       "      <td>75.502894</td>\n",
       "      <td>...</td>\n",
       "      <td>24.820651</td>\n",
       "      <td>3.515966</td>\n",
       "      <td>5.667853</td>\n",
       "      <td>6.894320</td>\n",
       "      <td>47.278235</td>\n",
       "      <td>8.148262</td>\n",
       "      <td>3.014037</td>\n",
       "      <td>56.428866</td>\n",
       "      <td>20.462228</td>\n",
       "      <td>30.133671</td>\n",
       "    </tr>\n",
       "    <tr>\n",
       "      <th>7557</th>\n",
       "      <td>2.957574</td>\n",
       "      <td>6.026370</td>\n",
       "      <td>16.672310</td>\n",
       "      <td>28.424893</td>\n",
       "      <td>58.052299</td>\n",
       "      <td>15.378043</td>\n",
       "      <td>12.084591</td>\n",
       "      <td>16.843741</td>\n",
       "      <td>68.229215</td>\n",
       "      <td>74.593624</td>\n",
       "      <td>...</td>\n",
       "      <td>25.162531</td>\n",
       "      <td>3.484892</td>\n",
       "      <td>5.522809</td>\n",
       "      <td>6.970466</td>\n",
       "      <td>47.135889</td>\n",
       "      <td>7.998034</td>\n",
       "      <td>3.048979</td>\n",
       "      <td>55.953197</td>\n",
       "      <td>20.415201</td>\n",
       "      <td>30.065573</td>\n",
       "    </tr>\n",
       "    <tr>\n",
       "      <th>7558</th>\n",
       "      <td>2.931083</td>\n",
       "      <td>6.121418</td>\n",
       "      <td>17.261238</td>\n",
       "      <td>28.571582</td>\n",
       "      <td>56.354513</td>\n",
       "      <td>15.057172</td>\n",
       "      <td>12.012025</td>\n",
       "      <td>16.373709</td>\n",
       "      <td>67.655713</td>\n",
       "      <td>75.377433</td>\n",
       "      <td>...</td>\n",
       "      <td>24.781459</td>\n",
       "      <td>3.496650</td>\n",
       "      <td>5.433490</td>\n",
       "      <td>6.817418</td>\n",
       "      <td>47.928273</td>\n",
       "      <td>8.047786</td>\n",
       "      <td>3.102596</td>\n",
       "      <td>56.663536</td>\n",
       "      <td>20.261926</td>\n",
       "      <td>29.887529</td>\n",
       "    </tr>\n",
       "    <tr>\n",
       "      <th>7559</th>\n",
       "      <td>2.850640</td>\n",
       "      <td>6.127352</td>\n",
       "      <td>17.119409</td>\n",
       "      <td>28.405618</td>\n",
       "      <td>56.316530</td>\n",
       "      <td>14.903897</td>\n",
       "      <td>11.738544</td>\n",
       "      <td>15.948718</td>\n",
       "      <td>67.781099</td>\n",
       "      <td>75.959416</td>\n",
       "      <td>...</td>\n",
       "      <td>24.861704</td>\n",
       "      <td>3.562615</td>\n",
       "      <td>5.457448</td>\n",
       "      <td>7.041592</td>\n",
       "      <td>47.827344</td>\n",
       "      <td>7.911175</td>\n",
       "      <td>3.196196</td>\n",
       "      <td>55.499558</td>\n",
       "      <td>20.362395</td>\n",
       "      <td>30.175504</td>\n",
       "    </tr>\n",
       "    <tr>\n",
       "      <th>7560</th>\n",
       "      <td>2.868300</td>\n",
       "      <td>6.090422</td>\n",
       "      <td>17.165019</td>\n",
       "      <td>29.257352</td>\n",
       "      <td>56.867513</td>\n",
       "      <td>15.123460</td>\n",
       "      <td>11.804286</td>\n",
       "      <td>16.220112</td>\n",
       "      <td>68.660607</td>\n",
       "      <td>75.518270</td>\n",
       "      <td>...</td>\n",
       "      <td>25.389342</td>\n",
       "      <td>3.503491</td>\n",
       "      <td>5.544335</td>\n",
       "      <td>7.169790</td>\n",
       "      <td>48.590578</td>\n",
       "      <td>7.984569</td>\n",
       "      <td>3.182914</td>\n",
       "      <td>54.675738</td>\n",
       "      <td>20.704643</td>\n",
       "      <td>30.761923</td>\n",
       "    </tr>\n",
       "  </tbody>\n",
       "</table>\n",
       "<p>7561 rows × 500 columns</p>\n",
       "</div>"
      ],
      "text/plain": [
       "           0         1          2          3          4          5    \\\n",
       "0     1.000000  1.000000   1.000000   1.000000   1.000000   1.000000   \n",
       "1     0.999616  1.006946   0.993363   1.007107   1.003482   0.992064   \n",
       "2     0.980716  1.011696   0.998719   1.024115   1.002578   1.002538   \n",
       "3     1.002675  1.018500   1.008887   1.014281   1.017156   1.013912   \n",
       "4     0.987323  1.034212   1.000975   1.027687   1.000336   1.026835   \n",
       "...        ...       ...        ...        ...        ...        ...   \n",
       "7556  2.939211  6.004762  16.590244  28.313973  58.420897  14.986086   \n",
       "7557  2.957574  6.026370  16.672310  28.424893  58.052299  15.378043   \n",
       "7558  2.931083  6.121418  17.261238  28.571582  56.354513  15.057172   \n",
       "7559  2.850640  6.127352  17.119409  28.405618  56.316530  14.903897   \n",
       "7560  2.868300  6.090422  17.165019  29.257352  56.867513  15.123460   \n",
       "\n",
       "            6          7          8          9    ...        490       491  \\\n",
       "0      1.000000   1.000000   1.000000   1.000000  ...   1.000000  1.000000   \n",
       "1      0.990963   1.015260   0.994979   1.003479  ...   0.991757  0.983316   \n",
       "2      0.969749   1.006990   0.981406   0.994817  ...   0.976760  0.984787   \n",
       "3      0.975225   1.025875   0.979720   1.012152  ...   0.959484  1.010003   \n",
       "4      0.971618   1.004425   0.977603   1.009956  ...   0.962910  1.012093   \n",
       "...         ...        ...        ...        ...  ...        ...       ...   \n",
       "7556  12.347772  16.879323  68.582799  75.502894  ...  24.820651  3.515966   \n",
       "7557  12.084591  16.843741  68.229215  74.593624  ...  25.162531  3.484892   \n",
       "7558  12.012025  16.373709  67.655713  75.377433  ...  24.781459  3.496650   \n",
       "7559  11.738544  15.948718  67.781099  75.959416  ...  24.861704  3.562615   \n",
       "7560  11.804286  16.220112  68.660607  75.518270  ...  25.389342  3.503491   \n",
       "\n",
       "           492       493        494       495       496        497        498  \\\n",
       "0     1.000000  1.000000   1.000000  1.000000  1.000000   1.000000   1.000000   \n",
       "1     1.016805  1.001261   1.023869  1.011479  1.003393   0.988362   1.036410   \n",
       "2     1.005501  0.995951   1.025471  1.013273  1.022692   0.991858   1.011514   \n",
       "3     1.008670  0.992770   1.059970  1.014498  1.031647   0.986673   1.023717   \n",
       "4     1.007511  1.000085   1.057496  1.014488  1.039965   0.994395   1.026159   \n",
       "...        ...       ...        ...       ...       ...        ...        ...   \n",
       "7556  5.667853  6.894320  47.278235  8.148262  3.014037  56.428866  20.462228   \n",
       "7557  5.522809  6.970466  47.135889  7.998034  3.048979  55.953197  20.415201   \n",
       "7558  5.433490  6.817418  47.928273  8.047786  3.102596  56.663536  20.261926   \n",
       "7559  5.457448  7.041592  47.827344  7.911175  3.196196  55.499558  20.362395   \n",
       "7560  5.544335  7.169790  48.590578  7.984569  3.182914  54.675738  20.704643   \n",
       "\n",
       "            499  \n",
       "0      1.000000  \n",
       "1      1.015929  \n",
       "2      1.000793  \n",
       "3      1.011210  \n",
       "4      1.008217  \n",
       "...         ...  \n",
       "7556  30.133671  \n",
       "7557  30.065573  \n",
       "7558  29.887529  \n",
       "7559  30.175504  \n",
       "7560  30.761923  \n",
       "\n",
       "[7561 rows x 500 columns]"
      ]
     },
     "execution_count": 13,
     "metadata": {},
     "output_type": "execute_result"
    }
   ],
   "source": [
    "MC_30years.calc_cumulative_return()"
   ]
  },
  {
   "cell_type": "code",
   "execution_count": 14,
   "id": "7aa0454a-aa00-4e59-9cb4-467c45aa3d62",
   "metadata": {
    "tags": []
   },
   "outputs": [
    {
     "data": {
      "image/png": "[encoded data removed]",
      "text/plain": [
       "<Figure size 640x480 with 1 Axes>"
      ]
     },
     "metadata": {},
     "output_type": "display_data"
    }
   ],
   "source": [
    "fig = MC_30years.plot_simulation().figure\n",
    "fig.savefig('mc_30yrs_simulation.png', bbox_inches='tight')"
   ]
  },
  {
   "cell_type": "code",
   "execution_count": 15,
   "id": "bc7ff1a9-c383-49fe-a06b-e8381c020712",
   "metadata": {
    "tags": []
   },
   "outputs": [
    {
     "data": {
      "image/png": "[encoded data removed]",
      "text/plain": [
       "<Figure size 640x480 with 1 Axes>"
      ]
     },
     "metadata": {},
     "output_type": "display_data"
    }
   ],
   "source": [
    "fig = MC_30years.plot_distribution().figure\n",
    "fig.savefig('mc_30yrs_distribution.png', bbox_inches='tight')"
   ]
  },
  {
   "cell_type": "code",
   "execution_count": 16,
   "id": "e0857905-5b84-499a-afe0-d24274919924",
   "metadata": {
    "tags": []
   },
   "outputs": [
    {
     "name": "stdout",
     "output_type": "stream",
     "text": [
      "count           500.000000\n",
      "mean             30.510412\n",
      "std              61.933780\n",
      "min               0.157991\n",
      "25%               6.436113\n",
      "50%              14.965102\n",
      "75%              31.904261\n",
      "max             770.189150\n",
      "95% CI Lower      1.278999\n",
      "95% CI Upper    139.672810\n",
      "Name: 7560, dtype: float64\n"
     ]
    }
   ],
   "source": [
    "tbl = MC_30years.summarize_cumulative_return()\n",
    "print(tbl)"
   ]
  },
  {
   "cell_type": "code",
   "execution_count": 17,
   "id": "af36fe0e-71f5-41eb-b926-6c5c381f7529",
   "metadata": {
    "tags": []
   },
   "outputs": [
    {
     "name": "stdout",
     "output_type": "stream",
     "text": [
      "There is a 95% chance that an initial investment of $20000 in the portfolio over the next 30 years will end within in the range of $25580 and $2793456\n"
     ]
    }
   ],
   "source": [
    "# Set initial investment\n",
    "initial_investment = 20000\n",
    "\n",
    "# Use the lower and upper `95%` confidence intervals to calculate the range of the possible outcomes of our $20,000\n",
    "# YOUR CODE HERE!\n",
    "ci_lower = initial_investment * tbl[8]\n",
    "ci_upper = initial_investment * tbl[9]\n",
    "\n",
    "# Print results\n",
    "print(f\"There is a 95% chance that an initial investment of ${initial_investment} in the portfolio\"\n",
    "      f\" over the next 30 years will end within in the range of\"\n",
    "      f\" ${ci_lower:.0f} and ${ci_upper:.0f}\")"
   ]
  },
  {
   "cell_type": "code",
   "execution_count": 18,
   "id": "4de637cd-4be0-4fb7-bcd6-00c90c8c77e3",
   "metadata": {},
   "outputs": [
    {
     "data": {
      "text/plain": [
       "SPY    0.014043\n",
       "dtype: float64"
      ]
     },
     "execution_count": 18,
     "metadata": {},
     "output_type": "execute_result"
    }
   ],
   "source": [
    "# Calculate the daily standard deviations of all portfolios\n",
    "daily_std = SPY_daily_return.std()\n",
    "daily_std"
   ]
  },
  {
   "cell_type": "code",
   "execution_count": 19,
   "id": "6cc012f9-bad0-44c1-a583-9939cbdcf36f",
   "metadata": {
    "tags": []
   },
   "outputs": [
    {
     "name": "stdout",
     "output_type": "stream",
     "text": [
      "Sharpe ratio for SPY is:\n",
      "SPY    0.508782\n",
      "dtype: float64\n"
     ]
    }
   ],
   "source": [
    "# Calculate the sharpe ratio\n",
    "sharpe_ratio = (SPY_daily_return.mean() * 252) / (SPY_daily_return.std() * np.sqrt(252))\n",
    "print(f'Sharpe ratio for SPY is:')\n",
    "print(sharpe_ratio)"
   ]
  },
  {
   "cell_type": "code",
   "execution_count": null,
   "id": "b361afa7-4f71-434f-9c26-e76d734a7ca4",
   "metadata": {},
   "outputs": [],
   "source": []
  }
 ],
 "metadata": {
  "kernelspec": {
   "display_name": "Python 3 (ipykernel)",
   "language": "python",
   "name": "python3"
  },
  "language_info": {
   "codemirror_mode": {
    "name": "ipython",
    "version": 3
   },
   "file_extension": ".py",
   "mimetype": "text/x-python",
   "name": "python",
   "nbconvert_exporter": "python",
   "pygments_lexer": "ipython3",
   "version": "3.7.16"
  }
 },
 "nbformat": 4,
 "nbformat_minor": 5
}
