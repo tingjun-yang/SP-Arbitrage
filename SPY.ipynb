{
 "cells": [
  {
   "cell_type": "code",
   "execution_count": 5,
   "id": "0958a768-b034-4d44-94a1-256a7f50c3ce",
   "metadata": {
    "tags": []
   },
   "outputs": [],
   "source": [
    "import os\n",
    "import requests\n",
    "import pandas as pd\n",
    "from dotenv import load_dotenv\n",
    "\n",
    "import alpaca_trade_api as tradeapi\n",
    "\n",
    "%matplotlib inline"
   ]
  },
  {
   "cell_type": "code",
   "execution_count": 2,
   "id": "ec5aec8d-8907-40c6-9f03-d10cc2c08146",
   "metadata": {
    "tags": []
   },
   "outputs": [
    {
     "data": {
      "text/plain": [
       "True"
      ]
     },
     "execution_count": 2,
     "metadata": {},
     "output_type": "execute_result"
    }
   ],
   "source": [
    "load_dotenv()"
   ]
  },
  {
   "cell_type": "code",
   "execution_count": 3,
   "id": "723bc8f5-3721-46f4-bb18-e27a38630a91",
   "metadata": {
    "tags": []
   },
   "outputs": [],
   "source": [
    "alpaca_api_key = os.getenv(\"ALPACA_API_KEY\")\n",
    "alpaca_secret_key = os.getenv(\"ALPACA_SECRET_KEY\")"
   ]
  },
  {
   "cell_type": "code",
   "execution_count": 6,
   "id": "eda41ea9-8ddc-47f6-be42-f5112680d133",
   "metadata": {
    "tags": []
   },
   "outputs": [],
   "source": [
    "alpaca = tradeapi.REST(alpaca_api_key, alpaca_secret_key, api_version='v2')"
   ]
  },
  {
   "cell_type": "code",
   "execution_count": 7,
   "id": "e68705c7-0ec3-4e37-a438-67cb9c439af3",
   "metadata": {
    "tags": []
   },
   "outputs": [],
   "source": [
    "start = pd.Timestamp('2019-05-01', tz='America/New_York').isoformat()\n",
    "end = pd.Timestamp('2023-05-01', tz='America/New_York').isoformat()"
   ]
  },
  {
   "cell_type": "code",
   "execution_count": 8,
   "id": "ca159fc1-0dc4-4c2a-b5a6-4adafe7c123d",
   "metadata": {
    "tags": []
   },
   "outputs": [],
   "source": [
    "tickers=[\"SPY\"]"
   ]
  },
  {
   "cell_type": "code",
   "execution_count": 10,
   "id": "9d6cb1f3-68e6-4c9a-bea0-ca0516ccacb0",
   "metadata": {
    "tags": []
   },
   "outputs": [],
   "source": [
    "timeframe=\"1Day\""
   ]
  },
  {
   "cell_type": "code",
   "execution_count": 12,
   "id": "905ecb00-d621-4b0c-a053-f08f18fba5ab",
   "metadata": {
    "tags": []
   },
   "outputs": [
    {
     "data": {
      "text/html": [
       "<div>\n",
       "<style scoped>\n",
       "    .dataframe tbody tr th:only-of-type {\n",
       "        vertical-align: middle;\n",
       "    }\n",
       "\n",
       "    .dataframe tbody tr th {\n",
       "        vertical-align: top;\n",
       "    }\n",
       "\n",
       "    .dataframe thead th {\n",
       "        text-align: right;\n",
       "    }\n",
       "</style>\n",
       "<table border=\"1\" class=\"dataframe\">\n",
       "  <thead>\n",
       "    <tr style=\"text-align: right;\">\n",
       "      <th></th>\n",
       "      <th>open</th>\n",
       "      <th>high</th>\n",
       "      <th>low</th>\n",
       "      <th>close</th>\n",
       "      <th>volume</th>\n",
       "      <th>trade_count</th>\n",
       "      <th>vwap</th>\n",
       "      <th>symbol</th>\n",
       "    </tr>\n",
       "    <tr>\n",
       "      <th>timestamp</th>\n",
       "      <th></th>\n",
       "      <th></th>\n",
       "      <th></th>\n",
       "      <th></th>\n",
       "      <th></th>\n",
       "      <th></th>\n",
       "      <th></th>\n",
       "      <th></th>\n",
       "    </tr>\n",
       "  </thead>\n",
       "  <tbody>\n",
       "    <tr>\n",
       "      <th>2019-05-01 04:00:00+00:00</th>\n",
       "      <td>294.72</td>\n",
       "      <td>294.95</td>\n",
       "      <td>291.8000</td>\n",
       "      <td>291.8200</td>\n",
       "      <td>71921870</td>\n",
       "      <td>337374</td>\n",
       "      <td>293.457138</td>\n",
       "      <td>SPY</td>\n",
       "    </tr>\n",
       "    <tr>\n",
       "      <th>2019-05-02 04:00:00+00:00</th>\n",
       "      <td>291.68</td>\n",
       "      <td>292.70</td>\n",
       "      <td>289.5200</td>\n",
       "      <td>291.1300</td>\n",
       "      <td>65058183</td>\n",
       "      <td>342564</td>\n",
       "      <td>291.101680</td>\n",
       "      <td>SPY</td>\n",
       "    </tr>\n",
       "    <tr>\n",
       "      <th>2019-05-03 04:00:00+00:00</th>\n",
       "      <td>292.82</td>\n",
       "      <td>294.34</td>\n",
       "      <td>291.2998</td>\n",
       "      <td>293.9800</td>\n",
       "      <td>56579556</td>\n",
       "      <td>249557</td>\n",
       "      <td>293.438891</td>\n",
       "      <td>SPY</td>\n",
       "    </tr>\n",
       "    <tr>\n",
       "      <th>2019-05-06 04:00:00+00:00</th>\n",
       "      <td>289.25</td>\n",
       "      <td>293.31</td>\n",
       "      <td>288.9000</td>\n",
       "      <td>292.8300</td>\n",
       "      <td>107250892</td>\n",
       "      <td>390959</td>\n",
       "      <td>291.952803</td>\n",
       "      <td>SPY</td>\n",
       "    </tr>\n",
       "    <tr>\n",
       "      <th>2019-05-07 04:00:00+00:00</th>\n",
       "      <td>290.15</td>\n",
       "      <td>290.81</td>\n",
       "      <td>285.8100</td>\n",
       "      <td>288.0500</td>\n",
       "      <td>145292657</td>\n",
       "      <td>618594</td>\n",
       "      <td>288.280747</td>\n",
       "      <td>SPY</td>\n",
       "    </tr>\n",
       "    <tr>\n",
       "      <th>2019-05-08 04:00:00+00:00</th>\n",
       "      <td>287.53</td>\n",
       "      <td>289.43</td>\n",
       "      <td>286.8700</td>\n",
       "      <td>287.7300</td>\n",
       "      <td>91714817</td>\n",
       "      <td>455857</td>\n",
       "      <td>288.141309</td>\n",
       "      <td>SPY</td>\n",
       "    </tr>\n",
       "    <tr>\n",
       "      <th>2019-05-09 04:00:00+00:00</th>\n",
       "      <td>285.23</td>\n",
       "      <td>287.33</td>\n",
       "      <td>283.3000</td>\n",
       "      <td>286.6700</td>\n",
       "      <td>103471271</td>\n",
       "      <td>526341</td>\n",
       "      <td>285.580572</td>\n",
       "      <td>SPY</td>\n",
       "    </tr>\n",
       "    <tr>\n",
       "      <th>2019-05-10 04:00:00+00:00</th>\n",
       "      <td>285.62</td>\n",
       "      <td>288.94</td>\n",
       "      <td>282.3000</td>\n",
       "      <td>288.0300</td>\n",
       "      <td>112603342</td>\n",
       "      <td>602402</td>\n",
       "      <td>285.828611</td>\n",
       "      <td>SPY</td>\n",
       "    </tr>\n",
       "    <tr>\n",
       "      <th>2019-05-13 04:00:00+00:00</th>\n",
       "      <td>282.42</td>\n",
       "      <td>283.49</td>\n",
       "      <td>279.9300</td>\n",
       "      <td>280.9905</td>\n",
       "      <td>127837979</td>\n",
       "      <td>670187</td>\n",
       "      <td>281.560182</td>\n",
       "      <td>SPY</td>\n",
       "    </tr>\n",
       "    <tr>\n",
       "      <th>2019-05-14 04:00:00+00:00</th>\n",
       "      <td>281.99</td>\n",
       "      <td>285.10</td>\n",
       "      <td>281.8500</td>\n",
       "      <td>283.3800</td>\n",
       "      <td>77106090</td>\n",
       "      <td>390251</td>\n",
       "      <td>283.609239</td>\n",
       "      <td>SPY</td>\n",
       "    </tr>\n",
       "  </tbody>\n",
       "</table>\n",
       "</div>"
      ],
      "text/plain": [
       "                             open    high       low     close     volume  \\\n",
       "timestamp                                                                  \n",
       "2019-05-01 04:00:00+00:00  294.72  294.95  291.8000  291.8200   71921870   \n",
       "2019-05-02 04:00:00+00:00  291.68  292.70  289.5200  291.1300   65058183   \n",
       "2019-05-03 04:00:00+00:00  292.82  294.34  291.2998  293.9800   56579556   \n",
       "2019-05-06 04:00:00+00:00  289.25  293.31  288.9000  292.8300  107250892   \n",
       "2019-05-07 04:00:00+00:00  290.15  290.81  285.8100  288.0500  145292657   \n",
       "2019-05-08 04:00:00+00:00  287.53  289.43  286.8700  287.7300   91714817   \n",
       "2019-05-09 04:00:00+00:00  285.23  287.33  283.3000  286.6700  103471271   \n",
       "2019-05-10 04:00:00+00:00  285.62  288.94  282.3000  288.0300  112603342   \n",
       "2019-05-13 04:00:00+00:00  282.42  283.49  279.9300  280.9905  127837979   \n",
       "2019-05-14 04:00:00+00:00  281.99  285.10  281.8500  283.3800   77106090   \n",
       "\n",
       "                           trade_count        vwap symbol  \n",
       "timestamp                                                  \n",
       "2019-05-01 04:00:00+00:00       337374  293.457138    SPY  \n",
       "2019-05-02 04:00:00+00:00       342564  291.101680    SPY  \n",
       "2019-05-03 04:00:00+00:00       249557  293.438891    SPY  \n",
       "2019-05-06 04:00:00+00:00       390959  291.952803    SPY  \n",
       "2019-05-07 04:00:00+00:00       618594  288.280747    SPY  \n",
       "2019-05-08 04:00:00+00:00       455857  288.141309    SPY  \n",
       "2019-05-09 04:00:00+00:00       526341  285.580572    SPY  \n",
       "2019-05-10 04:00:00+00:00       602402  285.828611    SPY  \n",
       "2019-05-13 04:00:00+00:00       670187  281.560182    SPY  \n",
       "2019-05-14 04:00:00+00:00       390251  283.609239    SPY  "
      ]
     },
     "execution_count": 12,
     "metadata": {},
     "output_type": "execute_result"
    }
   ],
   "source": [
    "portfolio_df_year = alpaca.get_bars(tickers, timeframe, start=start, end=end).df\n",
    "portfolio_df_year.head(10)"
   ]
  },
  {
   "cell_type": "code",
   "execution_count": 14,
   "id": "ceb9c60a-ecd6-4fa1-9e3e-1c347933b364",
   "metadata": {
    "tags": []
   },
   "outputs": [
    {
     "data": {
      "text/html": [
       "<div>\n",
       "<style scoped>\n",
       "    .dataframe tbody tr th:only-of-type {\n",
       "        vertical-align: middle;\n",
       "    }\n",
       "\n",
       "    .dataframe tbody tr th {\n",
       "        vertical-align: top;\n",
       "    }\n",
       "\n",
       "    .dataframe thead th {\n",
       "        text-align: right;\n",
       "    }\n",
       "</style>\n",
       "<table border=\"1\" class=\"dataframe\">\n",
       "  <thead>\n",
       "    <tr style=\"text-align: right;\">\n",
       "      <th></th>\n",
       "      <th>close</th>\n",
       "    </tr>\n",
       "  </thead>\n",
       "  <tbody>\n",
       "    <tr>\n",
       "      <th>2019-05-01</th>\n",
       "      <td>291.82</td>\n",
       "    </tr>\n",
       "    <tr>\n",
       "      <th>2019-05-02</th>\n",
       "      <td>291.13</td>\n",
       "    </tr>\n",
       "    <tr>\n",
       "      <th>2019-05-03</th>\n",
       "      <td>293.98</td>\n",
       "    </tr>\n",
       "    <tr>\n",
       "      <th>2019-05-06</th>\n",
       "      <td>292.83</td>\n",
       "    </tr>\n",
       "    <tr>\n",
       "      <th>2019-05-07</th>\n",
       "      <td>288.05</td>\n",
       "    </tr>\n",
       "  </tbody>\n",
       "</table>\n",
       "</div>"
      ],
      "text/plain": [
       "             close\n",
       "2019-05-01  291.82\n",
       "2019-05-02  291.13\n",
       "2019-05-03  293.98\n",
       "2019-05-06  292.83\n",
       "2019-05-07  288.05"
      ]
     },
     "execution_count": 14,
     "metadata": {},
     "output_type": "execute_result"
    }
   ],
   "source": [
    "SPY_closing = pd.DataFrame()\n",
    "SPY_closing['close'] = portfolio_df_year['close']\n",
    "SPY_closing.index = portfolio_df_year.index.date\n",
    "SPY_closing.head()"
   ]
  },
  {
   "cell_type": "code",
   "execution_count": 15,
   "id": "6405425b-4114-4fda-8d8c-1f0c7e769f99",
   "metadata": {
    "tags": []
   },
   "outputs": [
    {
     "data": {
      "text/html": [
       "<div>\n",
       "<style scoped>\n",
       "    .dataframe tbody tr th:only-of-type {\n",
       "        vertical-align: middle;\n",
       "    }\n",
       "\n",
       "    .dataframe tbody tr th {\n",
       "        vertical-align: top;\n",
       "    }\n",
       "\n",
       "    .dataframe thead th {\n",
       "        text-align: right;\n",
       "    }\n",
       "</style>\n",
       "<table border=\"1\" class=\"dataframe\">\n",
       "  <thead>\n",
       "    <tr style=\"text-align: right;\">\n",
       "      <th></th>\n",
       "      <th>close</th>\n",
       "    </tr>\n",
       "  </thead>\n",
       "  <tbody>\n",
       "    <tr>\n",
       "      <th>2019-05-02</th>\n",
       "      <td>-0.002364</td>\n",
       "    </tr>\n",
       "    <tr>\n",
       "      <th>2019-05-03</th>\n",
       "      <td>0.009789</td>\n",
       "    </tr>\n",
       "    <tr>\n",
       "      <th>2019-05-06</th>\n",
       "      <td>-0.003912</td>\n",
       "    </tr>\n",
       "    <tr>\n",
       "      <th>2019-05-07</th>\n",
       "      <td>-0.016323</td>\n",
       "    </tr>\n",
       "    <tr>\n",
       "      <th>2019-05-08</th>\n",
       "      <td>-0.001111</td>\n",
       "    </tr>\n",
       "  </tbody>\n",
       "</table>\n",
       "</div>"
      ],
      "text/plain": [
       "               close\n",
       "2019-05-02 -0.002364\n",
       "2019-05-03  0.009789\n",
       "2019-05-06 -0.003912\n",
       "2019-05-07 -0.016323\n",
       "2019-05-08 -0.001111"
      ]
     },
     "execution_count": 15,
     "metadata": {},
     "output_type": "execute_result"
    }
   ],
   "source": [
    "SPY_daily_return = SPY_closing.pct_change().dropna()\n",
    "SPY_daily_return.head()"
   ]
  },
  {
   "cell_type": "code",
   "execution_count": 16,
   "id": "ed9e46b3-979d-47e7-879d-d71ba72994f2",
   "metadata": {
    "tags": []
   },
   "outputs": [
    {
     "data": {
      "text/plain": [
       "<AxesSubplot:title={'center':'SPY daily Return'}>"
      ]
     },
     "execution_count": 16,
     "metadata": {},
     "output_type": "execute_result"
    },
    {
     "data": {
      "image/png": "[encoded data removed]",
      "text/plain": [
       "<Figure size 640x480 with 1 Axes>"
      ]
     },
     "metadata": {},
     "output_type": "display_data"
    }
   ],
   "source": [
    "SPY_daily_return.plot(title='SPY daily Return')"
   ]
  },
  {
   "cell_type": "code",
   "execution_count": null,
   "id": "de066b1d-e277-4b31-93f3-eccb2e1d891e",
   "metadata": {},
   "outputs": [],
   "source": []
  }
 ],
 "metadata": {
  "kernelspec": {
   "display_name": "Python 3 (ipykernel)",
   "language": "python",
   "name": "python3"
  },
  "language_info": {
   "codemirror_mode": {
    "name": "ipython",
    "version": 3
   },
   "file_extension": ".py",
   "mimetype": "text/x-python",
   "name": "python",
   "nbconvert_exporter": "python",
   "pygments_lexer": "ipython3",
   "version": "3.7.16"
  }
 },
 "nbformat": 4,
 "nbformat_minor": 5
}
