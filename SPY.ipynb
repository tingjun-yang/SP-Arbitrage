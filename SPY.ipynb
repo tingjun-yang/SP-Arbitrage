{
 "cells": [
  {
   "cell_type": "code",
   "execution_count": 1,
   "id": "0958a768-b034-4d44-94a1-256a7f50c3ce",
   "metadata": {
    "tags": []
   },
   "outputs": [],
   "source": [
    "import os\n",
    "import requests\n",
    "import pandas as pd\n",
    "import numpy as np\n",
    "from dotenv import load_dotenv\n",
    "\n",
    "import alpaca_trade_api as tradeapi\n",
    "from MCForecastTools import MCSimulation\n",
    "\n",
    "%matplotlib inline"
   ]
  },
  {
   "cell_type": "code",
   "execution_count": 2,
   "id": "ec5aec8d-8907-40c6-9f03-d10cc2c08146",
   "metadata": {
    "tags": []
   },
   "outputs": [
    {
     "data": {
      "text/plain": [
       "True"
      ]
     },
     "execution_count": 2,
     "metadata": {},
     "output_type": "execute_result"
    }
   ],
   "source": [
    "load_dotenv()"
   ]
  },
  {
   "cell_type": "code",
   "execution_count": 3,
   "id": "723bc8f5-3721-46f4-bb18-e27a38630a91",
   "metadata": {
    "tags": []
   },
   "outputs": [],
   "source": [
    "alpaca_api_key = os.getenv(\"ALPACA_API_KEY\")\n",
    "alpaca_secret_key = os.getenv(\"ALPACA_SECRET_KEY\")"
   ]
  },
  {
   "cell_type": "code",
   "execution_count": 4,
   "id": "eda41ea9-8ddc-47f6-be42-f5112680d133",
   "metadata": {
    "tags": []
   },
   "outputs": [],
   "source": [
    "alpaca = tradeapi.REST(alpaca_api_key, alpaca_secret_key, api_version='v2')"
   ]
  },
  {
   "cell_type": "code",
   "execution_count": 5,
   "id": "e68705c7-0ec3-4e37-a438-67cb9c439af3",
   "metadata": {
    "tags": []
   },
   "outputs": [],
   "source": [
    "start = pd.Timestamp('2019-05-01', tz='America/New_York').isoformat()\n",
    "end = pd.Timestamp('2023-05-01', tz='America/New_York').isoformat()"
   ]
  },
  {
   "cell_type": "code",
   "execution_count": 6,
   "id": "ca159fc1-0dc4-4c2a-b5a6-4adafe7c123d",
   "metadata": {
    "tags": []
   },
   "outputs": [],
   "source": [
    "tickers=[\"SPY\"]"
   ]
  },
  {
   "cell_type": "code",
   "execution_count": 7,
   "id": "9d6cb1f3-68e6-4c9a-bea0-ca0516ccacb0",
   "metadata": {
    "tags": []
   },
   "outputs": [],
   "source": [
    "timeframe=\"1Day\""
   ]
  },
  {
   "cell_type": "code",
   "execution_count": 8,
   "id": "905ecb00-d621-4b0c-a053-f08f18fba5ab",
   "metadata": {
    "tags": []
   },
   "outputs": [
    {
     "data": {
      "text/html": [
       "<div>\n",
       "<style scoped>\n",
       "    .dataframe tbody tr th:only-of-type {\n",
       "        vertical-align: middle;\n",
       "    }\n",
       "\n",
       "    .dataframe tbody tr th {\n",
       "        vertical-align: top;\n",
       "    }\n",
       "\n",
       "    .dataframe thead tr th {\n",
       "        text-align: left;\n",
       "    }\n",
       "\n",
       "    .dataframe thead tr:last-of-type th {\n",
       "        text-align: right;\n",
       "    }\n",
       "</style>\n",
       "<table border=\"1\" class=\"dataframe\">\n",
       "  <thead>\n",
       "    <tr>\n",
       "      <th></th>\n",
       "      <th colspan=\"8\" halign=\"left\">SPY</th>\n",
       "    </tr>\n",
       "    <tr>\n",
       "      <th></th>\n",
       "      <th>open</th>\n",
       "      <th>high</th>\n",
       "      <th>low</th>\n",
       "      <th>close</th>\n",
       "      <th>volume</th>\n",
       "      <th>trade_count</th>\n",
       "      <th>vwap</th>\n",
       "      <th>symbol</th>\n",
       "    </tr>\n",
       "    <tr>\n",
       "      <th>timestamp</th>\n",
       "      <th></th>\n",
       "      <th></th>\n",
       "      <th></th>\n",
       "      <th></th>\n",
       "      <th></th>\n",
       "      <th></th>\n",
       "      <th></th>\n",
       "      <th></th>\n",
       "    </tr>\n",
       "  </thead>\n",
       "  <tbody>\n",
       "    <tr>\n",
       "      <th>2019-05-01 04:00:00+00:00</th>\n",
       "      <td>294.72</td>\n",
       "      <td>294.95</td>\n",
       "      <td>291.8000</td>\n",
       "      <td>291.8200</td>\n",
       "      <td>71921870</td>\n",
       "      <td>337374</td>\n",
       "      <td>293.457138</td>\n",
       "      <td>SPY</td>\n",
       "    </tr>\n",
       "    <tr>\n",
       "      <th>2019-05-02 04:00:00+00:00</th>\n",
       "      <td>291.68</td>\n",
       "      <td>292.70</td>\n",
       "      <td>289.5200</td>\n",
       "      <td>291.1300</td>\n",
       "      <td>65058183</td>\n",
       "      <td>342564</td>\n",
       "      <td>291.101680</td>\n",
       "      <td>SPY</td>\n",
       "    </tr>\n",
       "    <tr>\n",
       "      <th>2019-05-03 04:00:00+00:00</th>\n",
       "      <td>292.82</td>\n",
       "      <td>294.34</td>\n",
       "      <td>291.2998</td>\n",
       "      <td>293.9800</td>\n",
       "      <td>56579556</td>\n",
       "      <td>249557</td>\n",
       "      <td>293.438891</td>\n",
       "      <td>SPY</td>\n",
       "    </tr>\n",
       "    <tr>\n",
       "      <th>2019-05-06 04:00:00+00:00</th>\n",
       "      <td>289.25</td>\n",
       "      <td>293.31</td>\n",
       "      <td>288.9000</td>\n",
       "      <td>292.8300</td>\n",
       "      <td>107250892</td>\n",
       "      <td>390959</td>\n",
       "      <td>291.952803</td>\n",
       "      <td>SPY</td>\n",
       "    </tr>\n",
       "    <tr>\n",
       "      <th>2019-05-07 04:00:00+00:00</th>\n",
       "      <td>290.15</td>\n",
       "      <td>290.81</td>\n",
       "      <td>285.8100</td>\n",
       "      <td>288.0500</td>\n",
       "      <td>145292657</td>\n",
       "      <td>618594</td>\n",
       "      <td>288.280747</td>\n",
       "      <td>SPY</td>\n",
       "    </tr>\n",
       "    <tr>\n",
       "      <th>2019-05-08 04:00:00+00:00</th>\n",
       "      <td>287.53</td>\n",
       "      <td>289.43</td>\n",
       "      <td>286.8700</td>\n",
       "      <td>287.7300</td>\n",
       "      <td>91714817</td>\n",
       "      <td>455857</td>\n",
       "      <td>288.141309</td>\n",
       "      <td>SPY</td>\n",
       "    </tr>\n",
       "    <tr>\n",
       "      <th>2019-05-09 04:00:00+00:00</th>\n",
       "      <td>285.23</td>\n",
       "      <td>287.33</td>\n",
       "      <td>283.3000</td>\n",
       "      <td>286.6700</td>\n",
       "      <td>103471271</td>\n",
       "      <td>526341</td>\n",
       "      <td>285.580572</td>\n",
       "      <td>SPY</td>\n",
       "    </tr>\n",
       "    <tr>\n",
       "      <th>2019-05-10 04:00:00+00:00</th>\n",
       "      <td>285.62</td>\n",
       "      <td>288.94</td>\n",
       "      <td>282.3000</td>\n",
       "      <td>288.0300</td>\n",
       "      <td>112603342</td>\n",
       "      <td>602402</td>\n",
       "      <td>285.828611</td>\n",
       "      <td>SPY</td>\n",
       "    </tr>\n",
       "    <tr>\n",
       "      <th>2019-05-13 04:00:00+00:00</th>\n",
       "      <td>282.42</td>\n",
       "      <td>283.49</td>\n",
       "      <td>279.9300</td>\n",
       "      <td>280.9905</td>\n",
       "      <td>127837979</td>\n",
       "      <td>670187</td>\n",
       "      <td>281.560182</td>\n",
       "      <td>SPY</td>\n",
       "    </tr>\n",
       "    <tr>\n",
       "      <th>2019-05-14 04:00:00+00:00</th>\n",
       "      <td>281.99</td>\n",
       "      <td>285.10</td>\n",
       "      <td>281.8500</td>\n",
       "      <td>283.3800</td>\n",
       "      <td>77106090</td>\n",
       "      <td>390251</td>\n",
       "      <td>283.609239</td>\n",
       "      <td>SPY</td>\n",
       "    </tr>\n",
       "  </tbody>\n",
       "</table>\n",
       "</div>"
      ],
      "text/plain": [
       "                              SPY                                         \\\n",
       "                             open    high       low     close     volume   \n",
       "timestamp                                                                  \n",
       "2019-05-01 04:00:00+00:00  294.72  294.95  291.8000  291.8200   71921870   \n",
       "2019-05-02 04:00:00+00:00  291.68  292.70  289.5200  291.1300   65058183   \n",
       "2019-05-03 04:00:00+00:00  292.82  294.34  291.2998  293.9800   56579556   \n",
       "2019-05-06 04:00:00+00:00  289.25  293.31  288.9000  292.8300  107250892   \n",
       "2019-05-07 04:00:00+00:00  290.15  290.81  285.8100  288.0500  145292657   \n",
       "2019-05-08 04:00:00+00:00  287.53  289.43  286.8700  287.7300   91714817   \n",
       "2019-05-09 04:00:00+00:00  285.23  287.33  283.3000  286.6700  103471271   \n",
       "2019-05-10 04:00:00+00:00  285.62  288.94  282.3000  288.0300  112603342   \n",
       "2019-05-13 04:00:00+00:00  282.42  283.49  279.9300  280.9905  127837979   \n",
       "2019-05-14 04:00:00+00:00  281.99  285.10  281.8500  283.3800   77106090   \n",
       "\n",
       "                                                          \n",
       "                          trade_count        vwap symbol  \n",
       "timestamp                                                 \n",
       "2019-05-01 04:00:00+00:00      337374  293.457138    SPY  \n",
       "2019-05-02 04:00:00+00:00      342564  291.101680    SPY  \n",
       "2019-05-03 04:00:00+00:00      249557  293.438891    SPY  \n",
       "2019-05-06 04:00:00+00:00      390959  291.952803    SPY  \n",
       "2019-05-07 04:00:00+00:00      618594  288.280747    SPY  \n",
       "2019-05-08 04:00:00+00:00      455857  288.141309    SPY  \n",
       "2019-05-09 04:00:00+00:00      526341  285.580572    SPY  \n",
       "2019-05-10 04:00:00+00:00      602402  285.828611    SPY  \n",
       "2019-05-13 04:00:00+00:00      670187  281.560182    SPY  \n",
       "2019-05-14 04:00:00+00:00      390251  283.609239    SPY  "
      ]
     },
     "execution_count": 8,
     "metadata": {},
     "output_type": "execute_result"
    }
   ],
   "source": [
    "portfolio_df_year = alpaca.get_bars(tickers, timeframe, start=start, end=end).df\n",
    "portfolio_df_year = pd.concat([portfolio_df_year], keys=[\"SPY\"], axis=1)\n",
    "portfolio_df_year.head(10)"
   ]
  },
  {
   "cell_type": "code",
   "execution_count": 9,
   "id": "ceb9c60a-ecd6-4fa1-9e3e-1c347933b364",
   "metadata": {
    "tags": []
   },
   "outputs": [
    {
     "data": {
      "text/html": [
       "<div>\n",
       "<style scoped>\n",
       "    .dataframe tbody tr th:only-of-type {\n",
       "        vertical-align: middle;\n",
       "    }\n",
       "\n",
       "    .dataframe tbody tr th {\n",
       "        vertical-align: top;\n",
       "    }\n",
       "\n",
       "    .dataframe thead th {\n",
       "        text-align: right;\n",
       "    }\n",
       "</style>\n",
       "<table border=\"1\" class=\"dataframe\">\n",
       "  <thead>\n",
       "    <tr style=\"text-align: right;\">\n",
       "      <th></th>\n",
       "      <th>close</th>\n",
       "    </tr>\n",
       "  </thead>\n",
       "  <tbody>\n",
       "    <tr>\n",
       "      <th>2019-05-01</th>\n",
       "      <td>291.82</td>\n",
       "    </tr>\n",
       "    <tr>\n",
       "      <th>2019-05-02</th>\n",
       "      <td>291.13</td>\n",
       "    </tr>\n",
       "    <tr>\n",
       "      <th>2019-05-03</th>\n",
       "      <td>293.98</td>\n",
       "    </tr>\n",
       "    <tr>\n",
       "      <th>2019-05-06</th>\n",
       "      <td>292.83</td>\n",
       "    </tr>\n",
       "    <tr>\n",
       "      <th>2019-05-07</th>\n",
       "      <td>288.05</td>\n",
       "    </tr>\n",
       "  </tbody>\n",
       "</table>\n",
       "</div>"
      ],
      "text/plain": [
       "             close\n",
       "2019-05-01  291.82\n",
       "2019-05-02  291.13\n",
       "2019-05-03  293.98\n",
       "2019-05-06  292.83\n",
       "2019-05-07  288.05"
      ]
     },
     "execution_count": 9,
     "metadata": {},
     "output_type": "execute_result"
    }
   ],
   "source": [
    "SPY_closing = pd.DataFrame()\n",
    "SPY_closing['close'] = portfolio_df_year['SPY']['close']\n",
    "SPY_closing.index = pd.to_datetime(portfolio_df_year.index.date)\n",
    "SPY_closing.head()"
   ]
  },
  {
   "cell_type": "code",
   "execution_count": 10,
   "id": "6405425b-4114-4fda-8d8c-1f0c7e769f99",
   "metadata": {
    "tags": []
   },
   "outputs": [
    {
     "data": {
      "text/html": [
       "<div>\n",
       "<style scoped>\n",
       "    .dataframe tbody tr th:only-of-type {\n",
       "        vertical-align: middle;\n",
       "    }\n",
       "\n",
       "    .dataframe tbody tr th {\n",
       "        vertical-align: top;\n",
       "    }\n",
       "\n",
       "    .dataframe thead th {\n",
       "        text-align: right;\n",
       "    }\n",
       "</style>\n",
       "<table border=\"1\" class=\"dataframe\">\n",
       "  <thead>\n",
       "    <tr style=\"text-align: right;\">\n",
       "      <th></th>\n",
       "      <th>close</th>\n",
       "    </tr>\n",
       "  </thead>\n",
       "  <tbody>\n",
       "    <tr>\n",
       "      <th>2019-05-02</th>\n",
       "      <td>-0.002364</td>\n",
       "    </tr>\n",
       "    <tr>\n",
       "      <th>2019-05-03</th>\n",
       "      <td>0.009789</td>\n",
       "    </tr>\n",
       "    <tr>\n",
       "      <th>2019-05-06</th>\n",
       "      <td>-0.003912</td>\n",
       "    </tr>\n",
       "    <tr>\n",
       "      <th>2019-05-07</th>\n",
       "      <td>-0.016323</td>\n",
       "    </tr>\n",
       "    <tr>\n",
       "      <th>2019-05-08</th>\n",
       "      <td>-0.001111</td>\n",
       "    </tr>\n",
       "  </tbody>\n",
       "</table>\n",
       "</div>"
      ],
      "text/plain": [
       "               close\n",
       "2019-05-02 -0.002364\n",
       "2019-05-03  0.009789\n",
       "2019-05-06 -0.003912\n",
       "2019-05-07 -0.016323\n",
       "2019-05-08 -0.001111"
      ]
     },
     "execution_count": 10,
     "metadata": {},
     "output_type": "execute_result"
    }
   ],
   "source": [
    "SPY_daily_return = SPY_closing.pct_change().dropna()\n",
    "SPY_daily_return.head()"
   ]
  },
  {
   "cell_type": "code",
   "execution_count": 11,
   "id": "ed9e46b3-979d-47e7-879d-d71ba72994f2",
   "metadata": {
    "tags": []
   },
   "outputs": [
    {
     "data": {
      "text/plain": [
       "<AxesSubplot:title={'center':'SPY daily Return'}>"
      ]
     },
     "execution_count": 11,
     "metadata": {},
     "output_type": "execute_result"
    },
    {
     "data": {
      "image/png": "[encoded data removed]",
      "text/plain": [
       "<Figure size 640x480 with 1 Axes>"
      ]
     },
     "metadata": {},
     "output_type": "display_data"
    }
   ],
   "source": [
    "SPY_daily_return.plot(title='SPY daily Return')"
   ]
  },
  {
   "cell_type": "code",
   "execution_count": 12,
   "id": "de066b1d-e277-4b31-93f3-eccb2e1d891e",
   "metadata": {
    "tags": []
   },
   "outputs": [],
   "source": [
    "MC_30years = MCSimulation(\n",
    "    portfolio_data=portfolio_df_year,\n",
    "    weights=[1],\n",
    "    num_simulation=500,\n",
    "    num_trading_days=30*252\n",
    ")"
   ]
  },
  {
   "cell_type": "code",
   "execution_count": 13,
   "id": "456d6031-bf82-47d3-81f9-d3aa159ad126",
   "metadata": {
    "tags": []
   },
   "outputs": [
    {
     "name": "stdout",
     "output_type": "stream",
     "text": [
      "Running Monte Carlo simulation number 0.\n",
      "Running Monte Carlo simulation number 10.\n",
      "Running Monte Carlo simulation number 20.\n",
      "Running Monte Carlo simulation number 30.\n",
      "Running Monte Carlo simulation number 40.\n",
      "Running Monte Carlo simulation number 50.\n",
      "Running Monte Carlo simulation number 60.\n",
      "Running Monte Carlo simulation number 70.\n",
      "Running Monte Carlo simulation number 80.\n",
      "Running Monte Carlo simulation number 90.\n",
      "Running Monte Carlo simulation number 100.\n"
     ]
    },
    {
     "name": "stderr",
     "output_type": "stream",
     "text": [
      "/Users/tjyang/git/SP-Arbitrage/MCForecastTools.py:117: PerformanceWarning: DataFrame is highly fragmented.  This is usually the result of calling `frame.insert` many times, which has poor performance.  Consider joining all columns at once using pd.concat(axis=1) instead.  To get a de-fragmented frame, use `newframe = frame.copy()`\n",
      "  portfolio_cumulative_returns[n] = (1 + sim_df.fillna(0)).cumprod()\n"
     ]
    },
    {
     "name": "stdout",
     "output_type": "stream",
     "text": [
      "Running Monte Carlo simulation number 110.\n",
      "Running Monte Carlo simulation number 120.\n",
      "Running Monte Carlo simulation number 130.\n",
      "Running Monte Carlo simulation number 140.\n",
      "Running Monte Carlo simulation number 150.\n",
      "Running Monte Carlo simulation number 160.\n",
      "Running Monte Carlo simulation number 170.\n",
      "Running Monte Carlo simulation number 180.\n",
      "Running Monte Carlo simulation number 190.\n",
      "Running Monte Carlo simulation number 200.\n",
      "Running Monte Carlo simulation number 210.\n",
      "Running Monte Carlo simulation number 220.\n",
      "Running Monte Carlo simulation number 230.\n",
      "Running Monte Carlo simulation number 240.\n",
      "Running Monte Carlo simulation number 250.\n",
      "Running Monte Carlo simulation number 260.\n",
      "Running Monte Carlo simulation number 270.\n",
      "Running Monte Carlo simulation number 280.\n",
      "Running Monte Carlo simulation number 290.\n",
      "Running Monte Carlo simulation number 300.\n",
      "Running Monte Carlo simulation number 310.\n",
      "Running Monte Carlo simulation number 320.\n",
      "Running Monte Carlo simulation number 330.\n",
      "Running Monte Carlo simulation number 340.\n",
      "Running Monte Carlo simulation number 350.\n",
      "Running Monte Carlo simulation number 360.\n",
      "Running Monte Carlo simulation number 370.\n",
      "Running Monte Carlo simulation number 380.\n",
      "Running Monte Carlo simulation number 390.\n",
      "Running Monte Carlo simulation number 400.\n",
      "Running Monte Carlo simulation number 410.\n",
      "Running Monte Carlo simulation number 420.\n",
      "Running Monte Carlo simulation number 430.\n",
      "Running Monte Carlo simulation number 440.\n",
      "Running Monte Carlo simulation number 450.\n",
      "Running Monte Carlo simulation number 460.\n",
      "Running Monte Carlo simulation number 470.\n",
      "Running Monte Carlo simulation number 480.\n",
      "Running Monte Carlo simulation number 490.\n"
     ]
    },
    {
     "data": {
      "text/html": [
       "<div>\n",
       "<style scoped>\n",
       "    .dataframe tbody tr th:only-of-type {\n",
       "        vertical-align: middle;\n",
       "    }\n",
       "\n",
       "    .dataframe tbody tr th {\n",
       "        vertical-align: top;\n",
       "    }\n",
       "\n",
       "    .dataframe thead th {\n",
       "        text-align: right;\n",
       "    }\n",
       "</style>\n",
       "<table border=\"1\" class=\"dataframe\">\n",
       "  <thead>\n",
       "    <tr style=\"text-align: right;\">\n",
       "      <th></th>\n",
       "      <th>0</th>\n",
       "      <th>1</th>\n",
       "      <th>2</th>\n",
       "      <th>3</th>\n",
       "      <th>4</th>\n",
       "      <th>5</th>\n",
       "      <th>6</th>\n",
       "      <th>7</th>\n",
       "      <th>8</th>\n",
       "      <th>9</th>\n",
       "      <th>...</th>\n",
       "      <th>490</th>\n",
       "      <th>491</th>\n",
       "      <th>492</th>\n",
       "      <th>493</th>\n",
       "      <th>494</th>\n",
       "      <th>495</th>\n",
       "      <th>496</th>\n",
       "      <th>497</th>\n",
       "      <th>498</th>\n",
       "      <th>499</th>\n",
       "    </tr>\n",
       "  </thead>\n",
       "  <tbody>\n",
       "    <tr>\n",
       "      <th>0</th>\n",
       "      <td>1.000000</td>\n",
       "      <td>1.000000</td>\n",
       "      <td>1.000000</td>\n",
       "      <td>1.000000</td>\n",
       "      <td>1.000000</td>\n",
       "      <td>1.000000</td>\n",
       "      <td>1.000000</td>\n",
       "      <td>1.000000</td>\n",
       "      <td>1.000000</td>\n",
       "      <td>1.000000</td>\n",
       "      <td>...</td>\n",
       "      <td>1.000000</td>\n",
       "      <td>1.000000</td>\n",
       "      <td>1.000000</td>\n",
       "      <td>1.000000</td>\n",
       "      <td>1.000000</td>\n",
       "      <td>1.000000</td>\n",
       "      <td>1.000000</td>\n",
       "      <td>1.000000</td>\n",
       "      <td>1.000000</td>\n",
       "      <td>1.000000</td>\n",
       "    </tr>\n",
       "    <tr>\n",
       "      <th>1</th>\n",
       "      <td>0.981877</td>\n",
       "      <td>0.987783</td>\n",
       "      <td>0.989312</td>\n",
       "      <td>1.008580</td>\n",
       "      <td>0.978827</td>\n",
       "      <td>1.019093</td>\n",
       "      <td>0.995450</td>\n",
       "      <td>1.020526</td>\n",
       "      <td>0.994921</td>\n",
       "      <td>1.006808</td>\n",
       "      <td>...</td>\n",
       "      <td>0.985237</td>\n",
       "      <td>1.014338</td>\n",
       "      <td>1.034789</td>\n",
       "      <td>0.991372</td>\n",
       "      <td>1.014898</td>\n",
       "      <td>1.001091</td>\n",
       "      <td>0.993505</td>\n",
       "      <td>1.022243</td>\n",
       "      <td>0.997806</td>\n",
       "      <td>0.975055</td>\n",
       "    </tr>\n",
       "    <tr>\n",
       "      <th>2</th>\n",
       "      <td>0.989859</td>\n",
       "      <td>0.994403</td>\n",
       "      <td>0.987548</td>\n",
       "      <td>0.998881</td>\n",
       "      <td>0.977034</td>\n",
       "      <td>1.022579</td>\n",
       "      <td>0.965739</td>\n",
       "      <td>1.013515</td>\n",
       "      <td>1.015463</td>\n",
       "      <td>1.026761</td>\n",
       "      <td>...</td>\n",
       "      <td>0.986372</td>\n",
       "      <td>1.044990</td>\n",
       "      <td>1.044278</td>\n",
       "      <td>0.979382</td>\n",
       "      <td>1.012289</td>\n",
       "      <td>1.034426</td>\n",
       "      <td>0.995506</td>\n",
       "      <td>1.018344</td>\n",
       "      <td>0.988703</td>\n",
       "      <td>1.003643</td>\n",
       "    </tr>\n",
       "    <tr>\n",
       "      <th>3</th>\n",
       "      <td>0.985490</td>\n",
       "      <td>1.015404</td>\n",
       "      <td>0.975446</td>\n",
       "      <td>0.997072</td>\n",
       "      <td>0.984928</td>\n",
       "      <td>1.028929</td>\n",
       "      <td>0.974974</td>\n",
       "      <td>1.030376</td>\n",
       "      <td>0.993267</td>\n",
       "      <td>1.030657</td>\n",
       "      <td>...</td>\n",
       "      <td>0.989062</td>\n",
       "      <td>1.037515</td>\n",
       "      <td>1.036446</td>\n",
       "      <td>0.992130</td>\n",
       "      <td>1.022914</td>\n",
       "      <td>1.006467</td>\n",
       "      <td>1.006483</td>\n",
       "      <td>1.014005</td>\n",
       "      <td>1.000795</td>\n",
       "      <td>1.006879</td>\n",
       "    </tr>\n",
       "    <tr>\n",
       "      <th>4</th>\n",
       "      <td>1.012662</td>\n",
       "      <td>0.995933</td>\n",
       "      <td>0.940439</td>\n",
       "      <td>1.021749</td>\n",
       "      <td>0.985098</td>\n",
       "      <td>1.028042</td>\n",
       "      <td>0.995925</td>\n",
       "      <td>1.019758</td>\n",
       "      <td>0.973119</td>\n",
       "      <td>1.042738</td>\n",
       "      <td>...</td>\n",
       "      <td>0.977398</td>\n",
       "      <td>1.025598</td>\n",
       "      <td>1.067339</td>\n",
       "      <td>0.968250</td>\n",
       "      <td>1.049887</td>\n",
       "      <td>1.028899</td>\n",
       "      <td>1.022563</td>\n",
       "      <td>1.010085</td>\n",
       "      <td>1.002178</td>\n",
       "      <td>1.001962</td>\n",
       "    </tr>\n",
       "    <tr>\n",
       "      <th>...</th>\n",
       "      <td>...</td>\n",
       "      <td>...</td>\n",
       "      <td>...</td>\n",
       "      <td>...</td>\n",
       "      <td>...</td>\n",
       "      <td>...</td>\n",
       "      <td>...</td>\n",
       "      <td>...</td>\n",
       "      <td>...</td>\n",
       "      <td>...</td>\n",
       "      <td>...</td>\n",
       "      <td>...</td>\n",
       "      <td>...</td>\n",
       "      <td>...</td>\n",
       "      <td>...</td>\n",
       "      <td>...</td>\n",
       "      <td>...</td>\n",
       "      <td>...</td>\n",
       "      <td>...</td>\n",
       "      <td>...</td>\n",
       "      <td>...</td>\n",
       "    </tr>\n",
       "    <tr>\n",
       "      <th>7556</th>\n",
       "      <td>30.342585</td>\n",
       "      <td>5.935223</td>\n",
       "      <td>38.652558</td>\n",
       "      <td>20.238657</td>\n",
       "      <td>8.363609</td>\n",
       "      <td>2.161196</td>\n",
       "      <td>34.745272</td>\n",
       "      <td>3.423073</td>\n",
       "      <td>10.900180</td>\n",
       "      <td>7.391291</td>\n",
       "      <td>...</td>\n",
       "      <td>81.894359</td>\n",
       "      <td>10.832110</td>\n",
       "      <td>14.963030</td>\n",
       "      <td>24.677872</td>\n",
       "      <td>7.685935</td>\n",
       "      <td>31.343613</td>\n",
       "      <td>10.259765</td>\n",
       "      <td>4.909393</td>\n",
       "      <td>11.691106</td>\n",
       "      <td>4.430140</td>\n",
       "    </tr>\n",
       "    <tr>\n",
       "      <th>7557</th>\n",
       "      <td>30.858607</td>\n",
       "      <td>5.972438</td>\n",
       "      <td>37.977706</td>\n",
       "      <td>19.906323</td>\n",
       "      <td>8.583237</td>\n",
       "      <td>2.148653</td>\n",
       "      <td>34.438750</td>\n",
       "      <td>3.363107</td>\n",
       "      <td>10.954314</td>\n",
       "      <td>7.472532</td>\n",
       "      <td>...</td>\n",
       "      <td>80.646335</td>\n",
       "      <td>10.735987</td>\n",
       "      <td>14.613748</td>\n",
       "      <td>24.452076</td>\n",
       "      <td>7.639090</td>\n",
       "      <td>31.362436</td>\n",
       "      <td>10.335590</td>\n",
       "      <td>4.877534</td>\n",
       "      <td>11.825955</td>\n",
       "      <td>4.505876</td>\n",
       "    </tr>\n",
       "    <tr>\n",
       "      <th>7558</th>\n",
       "      <td>31.238910</td>\n",
       "      <td>5.924537</td>\n",
       "      <td>38.338013</td>\n",
       "      <td>20.032875</td>\n",
       "      <td>8.592750</td>\n",
       "      <td>2.134795</td>\n",
       "      <td>34.826334</td>\n",
       "      <td>3.382251</td>\n",
       "      <td>11.342686</td>\n",
       "      <td>7.431240</td>\n",
       "      <td>...</td>\n",
       "      <td>79.201330</td>\n",
       "      <td>10.719477</td>\n",
       "      <td>14.506165</td>\n",
       "      <td>24.170772</td>\n",
       "      <td>7.770166</td>\n",
       "      <td>30.773066</td>\n",
       "      <td>10.220206</td>\n",
       "      <td>4.833271</td>\n",
       "      <td>11.902379</td>\n",
       "      <td>4.613986</td>\n",
       "    </tr>\n",
       "    <tr>\n",
       "      <th>7559</th>\n",
       "      <td>31.356998</td>\n",
       "      <td>5.873748</td>\n",
       "      <td>38.172876</td>\n",
       "      <td>20.072639</td>\n",
       "      <td>8.702792</td>\n",
       "      <td>2.143133</td>\n",
       "      <td>34.811319</td>\n",
       "      <td>3.404601</td>\n",
       "      <td>11.428559</td>\n",
       "      <td>7.417238</td>\n",
       "      <td>...</td>\n",
       "      <td>79.120955</td>\n",
       "      <td>10.691223</td>\n",
       "      <td>14.567349</td>\n",
       "      <td>24.585368</td>\n",
       "      <td>7.745879</td>\n",
       "      <td>31.097124</td>\n",
       "      <td>9.969605</td>\n",
       "      <td>4.943233</td>\n",
       "      <td>12.100542</td>\n",
       "      <td>4.629840</td>\n",
       "    </tr>\n",
       "    <tr>\n",
       "      <th>7560</th>\n",
       "      <td>31.322324</td>\n",
       "      <td>5.733039</td>\n",
       "      <td>39.025586</td>\n",
       "      <td>20.543011</td>\n",
       "      <td>8.511964</td>\n",
       "      <td>2.143109</td>\n",
       "      <td>35.520833</td>\n",
       "      <td>3.497186</td>\n",
       "      <td>11.662207</td>\n",
       "      <td>7.411122</td>\n",
       "      <td>...</td>\n",
       "      <td>78.228749</td>\n",
       "      <td>10.633708</td>\n",
       "      <td>14.638103</td>\n",
       "      <td>24.157226</td>\n",
       "      <td>7.852209</td>\n",
       "      <td>30.802875</td>\n",
       "      <td>9.831073</td>\n",
       "      <td>4.934417</td>\n",
       "      <td>12.177972</td>\n",
       "      <td>4.547025</td>\n",
       "    </tr>\n",
       "  </tbody>\n",
       "</table>\n",
       "<p>7561 rows × 500 columns</p>\n",
       "</div>"
      ],
      "text/plain": [
       "            0         1          2          3         4         5    \\\n",
       "0      1.000000  1.000000   1.000000   1.000000  1.000000  1.000000   \n",
       "1      0.981877  0.987783   0.989312   1.008580  0.978827  1.019093   \n",
       "2      0.989859  0.994403   0.987548   0.998881  0.977034  1.022579   \n",
       "3      0.985490  1.015404   0.975446   0.997072  0.984928  1.028929   \n",
       "4      1.012662  0.995933   0.940439   1.021749  0.985098  1.028042   \n",
       "...         ...       ...        ...        ...       ...       ...   \n",
       "7556  30.342585  5.935223  38.652558  20.238657  8.363609  2.161196   \n",
       "7557  30.858607  5.972438  37.977706  19.906323  8.583237  2.148653   \n",
       "7558  31.238910  5.924537  38.338013  20.032875  8.592750  2.134795   \n",
       "7559  31.356998  5.873748  38.172876  20.072639  8.702792  2.143133   \n",
       "7560  31.322324  5.733039  39.025586  20.543011  8.511964  2.143109   \n",
       "\n",
       "            6         7          8         9    ...        490        491  \\\n",
       "0      1.000000  1.000000   1.000000  1.000000  ...   1.000000   1.000000   \n",
       "1      0.995450  1.020526   0.994921  1.006808  ...   0.985237   1.014338   \n",
       "2      0.965739  1.013515   1.015463  1.026761  ...   0.986372   1.044990   \n",
       "3      0.974974  1.030376   0.993267  1.030657  ...   0.989062   1.037515   \n",
       "4      0.995925  1.019758   0.973119  1.042738  ...   0.977398   1.025598   \n",
       "...         ...       ...        ...       ...  ...        ...        ...   \n",
       "7556  34.745272  3.423073  10.900180  7.391291  ...  81.894359  10.832110   \n",
       "7557  34.438750  3.363107  10.954314  7.472532  ...  80.646335  10.735987   \n",
       "7558  34.826334  3.382251  11.342686  7.431240  ...  79.201330  10.719477   \n",
       "7559  34.811319  3.404601  11.428559  7.417238  ...  79.120955  10.691223   \n",
       "7560  35.520833  3.497186  11.662207  7.411122  ...  78.228749  10.633708   \n",
       "\n",
       "            492        493       494        495        496       497  \\\n",
       "0      1.000000   1.000000  1.000000   1.000000   1.000000  1.000000   \n",
       "1      1.034789   0.991372  1.014898   1.001091   0.993505  1.022243   \n",
       "2      1.044278   0.979382  1.012289   1.034426   0.995506  1.018344   \n",
       "3      1.036446   0.992130  1.022914   1.006467   1.006483  1.014005   \n",
       "4      1.067339   0.968250  1.049887   1.028899   1.022563  1.010085   \n",
       "...         ...        ...       ...        ...        ...       ...   \n",
       "7556  14.963030  24.677872  7.685935  31.343613  10.259765  4.909393   \n",
       "7557  14.613748  24.452076  7.639090  31.362436  10.335590  4.877534   \n",
       "7558  14.506165  24.170772  7.770166  30.773066  10.220206  4.833271   \n",
       "7559  14.567349  24.585368  7.745879  31.097124   9.969605  4.943233   \n",
       "7560  14.638103  24.157226  7.852209  30.802875   9.831073  4.934417   \n",
       "\n",
       "            498       499  \n",
       "0      1.000000  1.000000  \n",
       "1      0.997806  0.975055  \n",
       "2      0.988703  1.003643  \n",
       "3      1.000795  1.006879  \n",
       "4      1.002178  1.001962  \n",
       "...         ...       ...  \n",
       "7556  11.691106  4.430140  \n",
       "7557  11.825955  4.505876  \n",
       "7558  11.902379  4.613986  \n",
       "7559  12.100542  4.629840  \n",
       "7560  12.177972  4.547025  \n",
       "\n",
       "[7561 rows x 500 columns]"
      ]
     },
     "execution_count": 13,
     "metadata": {},
     "output_type": "execute_result"
    }
   ],
   "source": [
    "MC_30years.calc_cumulative_return()"
   ]
  },
  {
   "cell_type": "code",
   "execution_count": 14,
   "id": "7aa0454a-aa00-4e59-9cb4-467c45aa3d62",
   "metadata": {
    "tags": []
   },
   "outputs": [
    {
     "data": {
      "image/png": "[encoded data removed]",
      "text/plain": [
       "<Figure size 640x480 with 1 Axes>"
      ]
     },
     "metadata": {},
     "output_type": "display_data"
    }
   ],
   "source": [
    "fig = MC_30years.plot_simulation().figure\n",
    "fig.savefig('mc_30yrs_simulation.png', bbox_inches='tight')"
   ]
  },
  {
   "cell_type": "code",
   "execution_count": 15,
   "id": "bc7ff1a9-c383-49fe-a06b-e8381c020712",
   "metadata": {
    "tags": []
   },
   "outputs": [
    {
     "data": {
      "image/png": "[encoded data removed]",
      "text/plain": [
       "<Figure size 640x480 with 1 Axes>"
      ]
     },
     "metadata": {},
     "output_type": "display_data"
    }
   ],
   "source": [
    "fig = MC_30years.plot_distribution().figure\n",
    "fig.savefig('mc_30yrs_distribution.png', bbox_inches='tight')"
   ]
  },
  {
   "cell_type": "code",
   "execution_count": 16,
   "id": "e0857905-5b84-499a-afe0-d24274919924",
   "metadata": {
    "tags": []
   },
   "outputs": [
    {
     "name": "stdout",
     "output_type": "stream",
     "text": [
      "count            500.000000\n",
      "mean              32.088645\n",
      "std               77.796939\n",
      "min                0.351982\n",
      "25%                6.311341\n",
      "50%               14.410771\n",
      "75%               31.539235\n",
      "max             1494.543108\n",
      "95% CI Lower       1.256013\n",
      "95% CI Upper     153.544699\n",
      "Name: 7560, dtype: float64\n"
     ]
    }
   ],
   "source": [
    "tbl = MC_30years.summarize_cumulative_return()\n",
    "print(tbl)"
   ]
  },
  {
   "cell_type": "code",
   "execution_count": 17,
   "id": "af36fe0e-71f5-41eb-b926-6c5c381f7529",
   "metadata": {
    "tags": []
   },
   "outputs": [
    {
     "name": "stdout",
     "output_type": "stream",
     "text": [
      "There is a 95% chance that an initial investment of $20000 in the portfolio over the next 30 years will end within in the range of $25120 and $3070894\n"
     ]
    }
   ],
   "source": [
    "# Set initial investment\n",
    "initial_investment = 20000\n",
    "\n",
    "# Use the lower and upper `95%` confidence intervals to calculate the range of the possible outcomes of our $20,000\n",
    "# YOUR CODE HERE!\n",
    "ci_lower = initial_investment * tbl[8]\n",
    "ci_upper = initial_investment * tbl[9]\n",
    "\n",
    "# Print results\n",
    "print(f\"There is a 95% chance that an initial investment of ${initial_investment} in the portfolio\"\n",
    "      f\" over the next 30 years will end within in the range of\"\n",
    "      f\" ${ci_lower:.0f} and ${ci_upper:.0f}\")"
   ]
  },
  {
   "cell_type": "code",
   "execution_count": 18,
   "id": "4de637cd-4be0-4fb7-bcd6-00c90c8c77e3",
   "metadata": {},
   "outputs": [
    {
     "data": {
      "text/plain": [
       "close    0.014043\n",
       "dtype: float64"
      ]
     },
     "execution_count": 18,
     "metadata": {},
     "output_type": "execute_result"
    }
   ],
   "source": [
    "# Calculate the daily standard deviations of all portfolios\n",
    "daily_std = SPY_daily_return.std()\n",
    "daily_std"
   ]
  },
  {
   "cell_type": "code",
   "execution_count": 19,
   "id": "6cc012f9-bad0-44c1-a583-9939cbdcf36f",
   "metadata": {
    "tags": []
   },
   "outputs": [
    {
     "name": "stdout",
     "output_type": "stream",
     "text": [
      "Sharpe ratio for SPY is:close    0.508782\n",
      "dtype: float64\n"
     ]
    }
   ],
   "source": [
    "# Calculate the sharpe ratio\n",
    "sharpe_ratio = (SPY_daily_return.mean() * 252) / (SPY_daily_return.std() * np.sqrt(252))\n",
    "print(f'Sharpe ratio for SPY is:{sharpe_ratio}')"
   ]
  },
  {
   "cell_type": "code",
   "execution_count": null,
   "id": "b361afa7-4f71-434f-9c26-e76d734a7ca4",
   "metadata": {},
   "outputs": [],
   "source": []
  }
 ],
 "metadata": {
  "kernelspec": {
   "display_name": "Python 3 (ipykernel)",
   "language": "python",
   "name": "python3"
  },
  "language_info": {
   "codemirror_mode": {
    "name": "ipython",
    "version": 3
   },
   "file_extension": ".py",
   "mimetype": "text/x-python",
   "name": "python",
   "nbconvert_exporter": "python",
   "pygments_lexer": "ipython3",
   "version": "3.7.16"
  }
 },
 "nbformat": 4,
 "nbformat_minor": 5
}
